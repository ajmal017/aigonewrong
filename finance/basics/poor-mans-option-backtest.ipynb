{
 "cells": [
  {
   "cell_type": "code",
   "execution_count": 25,
   "metadata": {},
   "outputs": [],
   "source": [
    "import numpy as np\n",
    "import pandas as pd\n",
    "import yfinance as yf\n",
    "\n",
    "import matplotlib.pyplot as plt\n",
    "import seaborn as sns\n",
    "%matplotlib inline"
   ]
  },
  {
   "cell_type": "code",
   "execution_count": 26,
   "metadata": {},
   "outputs": [],
   "source": [
    "# compute mean."
   ]
  },
  {
   "cell_type": "code",
   "execution_count": 27,
   "metadata": {},
   "outputs": [],
   "source": [
    "# get historical daily price for SPY\n",
    "symbol = 'SPY'\n",
    "\n",
    "tick = yf.Ticker(symbol)\n",
    "history = tick.history(period=\"max\")\n",
    "assert(symbol =='SPY')\n",
    "vixh=yf.Ticker('^VIX').history(period=\"max\")\n",
    "df = pd.DataFrame()\n",
    "df['close'] = history.Close\n",
    "df['ret']= np.log(df.close).diff()\n",
    "df['ret_mean'] = df.ret.rolling(21).mean()\n",
    "df['realized_vol'] = df.ret.rolling(21).std()*np.sqrt(252)*100\n",
    "df['implied_vol'] = vixh.Close\n",
    "\n",
    "# compute some more params\n",
    "# z = (x – μ) / σ\n",
    "\n",
    "df['z_ret'] = (df.ret_mean-df.ret_mean.mean())/df.ret_mean.std()\n",
    "df['z_vol'] = (df.realized_vol-df.realized_vol.mean())/df.realized_vol.std()\n",
    "\n",
    "df = df.dropna()\n",
    "\n",
    "\n"
   ]
  },
  {
   "cell_type": "code",
   "execution_count": 28,
   "metadata": {},
   "outputs": [
    {
     "data": {
      "text/html": [
       "<div>\n",
       "<style scoped>\n",
       "    .dataframe tbody tr th:only-of-type {\n",
       "        vertical-align: middle;\n",
       "    }\n",
       "\n",
       "    .dataframe tbody tr th {\n",
       "        vertical-align: top;\n",
       "    }\n",
       "\n",
       "    .dataframe thead th {\n",
       "        text-align: right;\n",
       "    }\n",
       "</style>\n",
       "<table border=\"1\" class=\"dataframe\">\n",
       "  <thead>\n",
       "    <tr style=\"text-align: right;\">\n",
       "      <th></th>\n",
       "      <th>close</th>\n",
       "      <th>ret</th>\n",
       "      <th>ret_mean</th>\n",
       "      <th>realized_vol</th>\n",
       "      <th>implied_vol</th>\n",
       "      <th>z_ret</th>\n",
       "      <th>z_vol</th>\n",
       "    </tr>\n",
       "    <tr>\n",
       "      <th>Date</th>\n",
       "      <th></th>\n",
       "      <th></th>\n",
       "      <th></th>\n",
       "      <th></th>\n",
       "      <th></th>\n",
       "      <th></th>\n",
       "      <th></th>\n",
       "    </tr>\n",
       "  </thead>\n",
       "  <tbody>\n",
       "    <tr>\n",
       "      <th>1993-03-02</th>\n",
       "      <td>26.673210</td>\n",
       "      <td>0.014711</td>\n",
       "      <td>0.001072</td>\n",
       "      <td>13.124627</td>\n",
       "      <td>12.490000</td>\n",
       "      <td>0.315277</td>\n",
       "      <td>-0.274143</td>\n",
       "    </tr>\n",
       "    <tr>\n",
       "      <th>1993-03-03</th>\n",
       "      <td>26.784517</td>\n",
       "      <td>0.004164</td>\n",
       "      <td>0.000932</td>\n",
       "      <td>12.994241</td>\n",
       "      <td>13.130000</td>\n",
       "      <td>0.252873</td>\n",
       "      <td>-0.286675</td>\n",
       "    </tr>\n",
       "    <tr>\n",
       "      <th>1993-03-04</th>\n",
       "      <td>26.636116</td>\n",
       "      <td>-0.005556</td>\n",
       "      <td>0.000567</td>\n",
       "      <td>13.176690</td>\n",
       "      <td>13.440000</td>\n",
       "      <td>0.089071</td>\n",
       "      <td>-0.269139</td>\n",
       "    </tr>\n",
       "    <tr>\n",
       "      <th>1993-03-05</th>\n",
       "      <td>26.561911</td>\n",
       "      <td>-0.002790</td>\n",
       "      <td>-0.000066</td>\n",
       "      <td>12.708774</td>\n",
       "      <td>14.080000</td>\n",
       "      <td>-0.195001</td>\n",
       "      <td>-0.314113</td>\n",
       "    </tr>\n",
       "    <tr>\n",
       "      <th>1993-03-08</th>\n",
       "      <td>27.155470</td>\n",
       "      <td>0.022100</td>\n",
       "      <td>0.000787</td>\n",
       "      <td>14.806403</td>\n",
       "      <td>16.219999</td>\n",
       "      <td>0.187701</td>\n",
       "      <td>-0.112499</td>\n",
       "    </tr>\n",
       "    <tr>\n",
       "      <th>...</th>\n",
       "      <td>...</td>\n",
       "      <td>...</td>\n",
       "      <td>...</td>\n",
       "      <td>...</td>\n",
       "      <td>...</td>\n",
       "      <td>...</td>\n",
       "      <td>...</td>\n",
       "    </tr>\n",
       "    <tr>\n",
       "      <th>2020-11-10</th>\n",
       "      <td>354.040009</td>\n",
       "      <td>-0.001468</td>\n",
       "      <td>0.000217</td>\n",
       "      <td>21.329980</td>\n",
       "      <td>24.799999</td>\n",
       "      <td>-0.067884</td>\n",
       "      <td>0.514515</td>\n",
       "    </tr>\n",
       "    <tr>\n",
       "      <th>2020-11-11</th>\n",
       "      <td>356.670013</td>\n",
       "      <td>0.007401</td>\n",
       "      <td>0.000881</td>\n",
       "      <td>21.319897</td>\n",
       "      <td>23.450001</td>\n",
       "      <td>0.229927</td>\n",
       "      <td>0.513546</td>\n",
       "    </tr>\n",
       "    <tr>\n",
       "      <th>2020-11-12</th>\n",
       "      <td>353.209991</td>\n",
       "      <td>-0.009748</td>\n",
       "      <td>0.000717</td>\n",
       "      <td>21.498823</td>\n",
       "      <td>25.350000</td>\n",
       "      <td>0.156373</td>\n",
       "      <td>0.530743</td>\n",
       "    </tr>\n",
       "    <tr>\n",
       "      <th>2020-11-13</th>\n",
       "      <td>358.100006</td>\n",
       "      <td>0.013750</td>\n",
       "      <td>0.001431</td>\n",
       "      <td>21.949281</td>\n",
       "      <td>23.100000</td>\n",
       "      <td>0.476336</td>\n",
       "      <td>0.574039</td>\n",
       "    </tr>\n",
       "    <tr>\n",
       "      <th>2020-11-16</th>\n",
       "      <td>362.570007</td>\n",
       "      <td>0.012405</td>\n",
       "      <td>0.002050</td>\n",
       "      <td>22.257778</td>\n",
       "      <td>22.450001</td>\n",
       "      <td>0.754102</td>\n",
       "      <td>0.603690</td>\n",
       "    </tr>\n",
       "  </tbody>\n",
       "</table>\n",
       "<p>6981 rows × 7 columns</p>\n",
       "</div>"
      ],
      "text/plain": [
       "                 close       ret  ret_mean  realized_vol  implied_vol  \\\n",
       "Date                                                                    \n",
       "1993-03-02   26.673210  0.014711  0.001072     13.124627    12.490000   \n",
       "1993-03-03   26.784517  0.004164  0.000932     12.994241    13.130000   \n",
       "1993-03-04   26.636116 -0.005556  0.000567     13.176690    13.440000   \n",
       "1993-03-05   26.561911 -0.002790 -0.000066     12.708774    14.080000   \n",
       "1993-03-08   27.155470  0.022100  0.000787     14.806403    16.219999   \n",
       "...                ...       ...       ...           ...          ...   \n",
       "2020-11-10  354.040009 -0.001468  0.000217     21.329980    24.799999   \n",
       "2020-11-11  356.670013  0.007401  0.000881     21.319897    23.450001   \n",
       "2020-11-12  353.209991 -0.009748  0.000717     21.498823    25.350000   \n",
       "2020-11-13  358.100006  0.013750  0.001431     21.949281    23.100000   \n",
       "2020-11-16  362.570007  0.012405  0.002050     22.257778    22.450001   \n",
       "\n",
       "               z_ret     z_vol  \n",
       "Date                            \n",
       "1993-03-02  0.315277 -0.274143  \n",
       "1993-03-03  0.252873 -0.286675  \n",
       "1993-03-04  0.089071 -0.269139  \n",
       "1993-03-05 -0.195001 -0.314113  \n",
       "1993-03-08  0.187701 -0.112499  \n",
       "...              ...       ...  \n",
       "2020-11-10 -0.067884  0.514515  \n",
       "2020-11-11  0.229927  0.513546  \n",
       "2020-11-12  0.156373  0.530743  \n",
       "2020-11-13  0.476336  0.574039  \n",
       "2020-11-16  0.754102  0.603690  \n",
       "\n",
       "[6981 rows x 7 columns]"
      ]
     },
     "execution_count": 28,
     "metadata": {},
     "output_type": "execute_result"
    }
   ],
   "source": [
    "df"
   ]
  },
  {
   "cell_type": "code",
   "execution_count": 29,
   "metadata": {},
   "outputs": [
    {
     "data": {
      "text/plain": [
       "<matplotlib.legend.Legend at 0x7f75f9f8a4a8>"
      ]
     },
     "execution_count": 29,
     "metadata": {},
     "output_type": "execute_result"
    },
    {
     "data": {
      "image/png": "[encoded data removed]",
      "text/plain": [
       "<Figure size 432x288 with 1 Axes>"
      ]
     },
     "metadata": {
      "needs_background": "light"
     },
     "output_type": "display_data"
    }
   ],
   "source": [
    "# refresher https://www.portfolioprobe.com/2010/10/04/a-tale-of-two-returns/\n",
    "# https://quant.stackexchange.com/questions/21092/calculating-log-returns-across-multiple-securities-and-time\n",
    "norm_price_from_log_ret = np.expand_dims(np.cumprod(df.ret+1),axis=1)\n",
    "norm_price_from_price = np.expand_dims(df.close.values/df.close.values[0],axis=1)\n",
    "plt.plot(norm_price_from_price,label='from price')\n",
    "plt.plot(norm_price_from_log_ret,label='from log ret')\n",
    "plt.grid(True)\n",
    "plt.legend()"
   ]
  },
  {
   "cell_type": "code",
   "execution_count": 30,
   "metadata": {},
   "outputs": [
    {
     "name": "stdout",
     "output_type": "stream",
     "text": [
      "2.142857142857143\n"
     ]
    }
   ],
   "source": [
    "# 45 days DTE - equates to 45/21 = 2.1 weeks, which is 10 business days\n",
    "print(45/21)"
   ]
  },
  {
   "cell_type": "code",
   "execution_count": null,
   "metadata": {},
   "outputs": [],
   "source": [
    "# https://medium.com/magnimetrics/black-scholes-model-first-steps-bdcbe1691da7"
   ]
  },
  {
   "cell_type": "code",
   "execution_count": 6,
   "metadata": {},
   "outputs": [],
   "source": [
    "# thus we first determine the Ys which we want to predict\n",
    "# X will be a vector of historical data, and Y will be the future 10day price change and volatility change."
   ]
  },
  {
   "cell_type": "code",
   "execution_count": 40,
   "metadata": {},
   "outputs": [
    {
     "name": "stdout",
     "output_type": "stream",
     "text": [
      "0.07012719851578542\n",
      "0.037614635845718336\n"
     ]
    }
   ],
   "source": [
    "# dont want to write another black schole function.\n",
    "# using existing ones based on github project star count\n",
    "# https://github.com/search?l=Python&o=desc&q=black+schole&s=stars&type=Repositories\n",
    "# \n",
    "# lets be rational - https://jaeckel.000webhostapp.com/LetsBeRational.pdf\n",
    "# https://github.com/vollib/py_vollib\n",
    "# https://github.com/boyac/pyOptionPricing\n"
   ]
  },
  {
   "cell_type": "code",
   "execution_count": 7,
   "metadata": {},
   "outputs": [],
   "source": [
    "# assuming you put on a position every day, and \n",
    "\n",
    "# ,IVR,\n",
    "\n",
    "\n",
    "#df['vol_change'] = df.vol.pct_change(21).shift(-21)\n",
    "#df['price_change'] = df.close.pct_change(21).shift(-21)"
   ]
  },
  {
   "cell_type": "code",
   "execution_count": 8,
   "metadata": {},
   "outputs": [
    {
     "name": "stdout",
     "output_type": "stream",
     "text": [
      "-0.01653507756904965\n",
      "[-0.73938052 -0.39998495 -0.27942426 -0.18742817 -0.10688003 -0.01653508\n",
      "  0.08996544  0.2130862   0.37098963  0.68346094  5.18230485]\n"
     ]
    },
    {
     "data": {
      "image/png": "[encoded data removed]",
      "text/plain": [
       "<Figure size 432x288 with 1 Axes>"
      ]
     },
     "metadata": {
      "needs_background": "light"
     },
     "output_type": "display_data"
    }
   ],
   "source": [
    "_ = plt.hist(df.vol_change.dropna().values,bins=100)\n",
    "print(np.nanmedian(df.vol_change))\n",
    "print(np.nanpercentile(df.vol_change,np.arange(0,110,10)))"
   ]
  },
  {
   "cell_type": "code",
   "execution_count": 9,
   "metadata": {},
   "outputs": [
    {
     "name": "stdout",
     "output_type": "stream",
     "text": [
      "0.013577949377963305\n",
      "[-0.3275129  -0.0451775  -0.02144261 -0.00602195  0.00494458  0.01357795\n",
      "  0.02204223  0.03068498  0.04007776  0.05563415  0.25185022]\n"
     ]
    },
    {
     "data": {
      "image/png": "[encoded data removed]",
      "text/plain": [
       "<Figure size 432x288 with 1 Axes>"
      ]
     },
     "metadata": {
      "needs_background": "light"
     },
     "output_type": "display_data"
    }
   ],
   "source": [
    "_ = plt.hist(df.price_change.dropna().values,bins=100)\n",
    "print(np.nanmedian(df.price_change))\n",
    "print(np.nanpercentile(df.price_change,np.arange(0,110,10)))"
   ]
  },
  {
   "cell_type": "code",
   "execution_count": 10,
   "metadata": {},
   "outputs": [
    {
     "data": {
      "text/html": [
       "<div>\n",
       "<style scoped>\n",
       "    .dataframe tbody tr th:only-of-type {\n",
       "        vertical-align: middle;\n",
       "    }\n",
       "\n",
       "    .dataframe tbody tr th {\n",
       "        vertical-align: top;\n",
       "    }\n",
       "\n",
       "    .dataframe thead th {\n",
       "        text-align: right;\n",
       "    }\n",
       "</style>\n",
       "<table border=\"1\" class=\"dataframe\">\n",
       "  <thead>\n",
       "    <tr style=\"text-align: right;\">\n",
       "      <th></th>\n",
       "      <th>close</th>\n",
       "      <th>ret</th>\n",
       "      <th>ret_mean</th>\n",
       "      <th>vol</th>\n",
       "      <th>vol_change</th>\n",
       "      <th>price_change</th>\n",
       "    </tr>\n",
       "    <tr>\n",
       "      <th>Date</th>\n",
       "      <th></th>\n",
       "      <th></th>\n",
       "      <th></th>\n",
       "      <th></th>\n",
       "      <th></th>\n",
       "      <th></th>\n",
       "    </tr>\n",
       "  </thead>\n",
       "  <tbody>\n",
       "    <tr>\n",
       "      <th>2020-10-16</th>\n",
       "      <td>347.290009</td>\n",
       "      <td>-0.000604</td>\n",
       "      <td>0.001787</td>\n",
       "      <td>19.141496</td>\n",
       "      <td>0.154955</td>\n",
       "      <td>0.040917</td>\n",
       "    </tr>\n",
       "    <tr>\n",
       "      <th>2020-10-19</th>\n",
       "      <td>342.010010</td>\n",
       "      <td>-0.015320</td>\n",
       "      <td>0.001609</td>\n",
       "      <td>19.510911</td>\n",
       "      <td>NaN</td>\n",
       "      <td>NaN</td>\n",
       "    </tr>\n",
       "    <tr>\n",
       "      <th>2020-10-20</th>\n",
       "      <td>343.380005</td>\n",
       "      <td>0.003998</td>\n",
       "      <td>0.002332</td>\n",
       "      <td>18.956925</td>\n",
       "      <td>NaN</td>\n",
       "      <td>NaN</td>\n",
       "    </tr>\n",
       "    <tr>\n",
       "      <th>2020-10-21</th>\n",
       "      <td>342.730011</td>\n",
       "      <td>-0.001895</td>\n",
       "      <td>0.001759</td>\n",
       "      <td>18.790426</td>\n",
       "      <td>NaN</td>\n",
       "      <td>NaN</td>\n",
       "    </tr>\n",
       "    <tr>\n",
       "      <th>2020-10-22</th>\n",
       "      <td>344.609985</td>\n",
       "      <td>0.005470</td>\n",
       "      <td>0.003137</td>\n",
       "      <td>16.420404</td>\n",
       "      <td>NaN</td>\n",
       "      <td>NaN</td>\n",
       "    </tr>\n",
       "    <tr>\n",
       "      <th>2020-10-23</th>\n",
       "      <td>345.779999</td>\n",
       "      <td>0.003389</td>\n",
       "      <td>0.003172</td>\n",
       "      <td>16.419686</td>\n",
       "      <td>NaN</td>\n",
       "      <td>NaN</td>\n",
       "    </tr>\n",
       "    <tr>\n",
       "      <th>2020-10-26</th>\n",
       "      <td>339.390015</td>\n",
       "      <td>-0.018653</td>\n",
       "      <td>0.001520</td>\n",
       "      <td>17.364976</td>\n",
       "      <td>NaN</td>\n",
       "      <td>NaN</td>\n",
       "    </tr>\n",
       "    <tr>\n",
       "      <th>2020-10-27</th>\n",
       "      <td>338.220001</td>\n",
       "      <td>-0.003453</td>\n",
       "      <td>0.000571</td>\n",
       "      <td>16.556045</td>\n",
       "      <td>NaN</td>\n",
       "      <td>NaN</td>\n",
       "    </tr>\n",
       "    <tr>\n",
       "      <th>2020-10-28</th>\n",
       "      <td>326.660004</td>\n",
       "      <td>-0.034777</td>\n",
       "      <td>-0.000825</td>\n",
       "      <td>20.537579</td>\n",
       "      <td>NaN</td>\n",
       "      <td>NaN</td>\n",
       "    </tr>\n",
       "    <tr>\n",
       "      <th>2020-10-29</th>\n",
       "      <td>329.980011</td>\n",
       "      <td>0.010112</td>\n",
       "      <td>-0.000703</td>\n",
       "      <td>20.687691</td>\n",
       "      <td>NaN</td>\n",
       "      <td>NaN</td>\n",
       "    </tr>\n",
       "    <tr>\n",
       "      <th>2020-10-30</th>\n",
       "      <td>326.540009</td>\n",
       "      <td>-0.010480</td>\n",
       "      <td>-0.001507</td>\n",
       "      <td>20.783573</td>\n",
       "      <td>NaN</td>\n",
       "      <td>NaN</td>\n",
       "    </tr>\n",
       "    <tr>\n",
       "      <th>2020-11-02</th>\n",
       "      <td>330.200012</td>\n",
       "      <td>0.011146</td>\n",
       "      <td>-0.000522</td>\n",
       "      <td>21.010293</td>\n",
       "      <td>NaN</td>\n",
       "      <td>NaN</td>\n",
       "    </tr>\n",
       "    <tr>\n",
       "      <th>2020-11-03</th>\n",
       "      <td>336.029999</td>\n",
       "      <td>0.017502</td>\n",
       "      <td>-0.000526</td>\n",
       "      <td>21.002078</td>\n",
       "      <td>NaN</td>\n",
       "      <td>NaN</td>\n",
       "    </tr>\n",
       "    <tr>\n",
       "      <th>2020-11-04</th>\n",
       "      <td>343.540009</td>\n",
       "      <td>0.022103</td>\n",
       "      <td>0.001209</td>\n",
       "      <td>21.764179</td>\n",
       "      <td>NaN</td>\n",
       "      <td>NaN</td>\n",
       "    </tr>\n",
       "    <tr>\n",
       "      <th>2020-11-05</th>\n",
       "      <td>350.239990</td>\n",
       "      <td>0.019315</td>\n",
       "      <td>0.001307</td>\n",
       "      <td>21.966136</td>\n",
       "      <td>NaN</td>\n",
       "      <td>NaN</td>\n",
       "    </tr>\n",
       "    <tr>\n",
       "      <th>2020-11-06</th>\n",
       "      <td>350.160004</td>\n",
       "      <td>-0.000228</td>\n",
       "      <td>0.000876</td>\n",
       "      <td>21.799018</td>\n",
       "      <td>NaN</td>\n",
       "      <td>NaN</td>\n",
       "    </tr>\n",
       "    <tr>\n",
       "      <th>2020-11-09</th>\n",
       "      <td>354.559998</td>\n",
       "      <td>0.012487</td>\n",
       "      <td>0.001047</td>\n",
       "      <td>22.000328</td>\n",
       "      <td>NaN</td>\n",
       "      <td>NaN</td>\n",
       "    </tr>\n",
       "    <tr>\n",
       "      <th>2020-11-10</th>\n",
       "      <td>354.040009</td>\n",
       "      <td>-0.001468</td>\n",
       "      <td>0.000217</td>\n",
       "      <td>21.329980</td>\n",
       "      <td>NaN</td>\n",
       "      <td>NaN</td>\n",
       "    </tr>\n",
       "    <tr>\n",
       "      <th>2020-11-11</th>\n",
       "      <td>356.670013</td>\n",
       "      <td>0.007401</td>\n",
       "      <td>0.000881</td>\n",
       "      <td>21.319897</td>\n",
       "      <td>NaN</td>\n",
       "      <td>NaN</td>\n",
       "    </tr>\n",
       "    <tr>\n",
       "      <th>2020-11-12</th>\n",
       "      <td>353.209991</td>\n",
       "      <td>-0.009748</td>\n",
       "      <td>0.000717</td>\n",
       "      <td>21.498823</td>\n",
       "      <td>NaN</td>\n",
       "      <td>NaN</td>\n",
       "    </tr>\n",
       "    <tr>\n",
       "      <th>2020-11-13</th>\n",
       "      <td>358.100006</td>\n",
       "      <td>0.013750</td>\n",
       "      <td>0.001431</td>\n",
       "      <td>21.949281</td>\n",
       "      <td>NaN</td>\n",
       "      <td>NaN</td>\n",
       "    </tr>\n",
       "    <tr>\n",
       "      <th>2020-11-16</th>\n",
       "      <td>361.500000</td>\n",
       "      <td>0.009450</td>\n",
       "      <td>0.001910</td>\n",
       "      <td>22.107569</td>\n",
       "      <td>NaN</td>\n",
       "      <td>NaN</td>\n",
       "    </tr>\n",
       "  </tbody>\n",
       "</table>\n",
       "</div>"
      ],
      "text/plain": [
       "                 close       ret  ret_mean        vol  vol_change  \\\n",
       "Date                                                                \n",
       "2020-10-16  347.290009 -0.000604  0.001787  19.141496    0.154955   \n",
       "2020-10-19  342.010010 -0.015320  0.001609  19.510911         NaN   \n",
       "2020-10-20  343.380005  0.003998  0.002332  18.956925         NaN   \n",
       "2020-10-21  342.730011 -0.001895  0.001759  18.790426         NaN   \n",
       "2020-10-22  344.609985  0.005470  0.003137  16.420404         NaN   \n",
       "2020-10-23  345.779999  0.003389  0.003172  16.419686         NaN   \n",
       "2020-10-26  339.390015 -0.018653  0.001520  17.364976         NaN   \n",
       "2020-10-27  338.220001 -0.003453  0.000571  16.556045         NaN   \n",
       "2020-10-28  326.660004 -0.034777 -0.000825  20.537579         NaN   \n",
       "2020-10-29  329.980011  0.010112 -0.000703  20.687691         NaN   \n",
       "2020-10-30  326.540009 -0.010480 -0.001507  20.783573         NaN   \n",
       "2020-11-02  330.200012  0.011146 -0.000522  21.010293         NaN   \n",
       "2020-11-03  336.029999  0.017502 -0.000526  21.002078         NaN   \n",
       "2020-11-04  343.540009  0.022103  0.001209  21.764179         NaN   \n",
       "2020-11-05  350.239990  0.019315  0.001307  21.966136         NaN   \n",
       "2020-11-06  350.160004 -0.000228  0.000876  21.799018         NaN   \n",
       "2020-11-09  354.559998  0.012487  0.001047  22.000328         NaN   \n",
       "2020-11-10  354.040009 -0.001468  0.000217  21.329980         NaN   \n",
       "2020-11-11  356.670013  0.007401  0.000881  21.319897         NaN   \n",
       "2020-11-12  353.209991 -0.009748  0.000717  21.498823         NaN   \n",
       "2020-11-13  358.100006  0.013750  0.001431  21.949281         NaN   \n",
       "2020-11-16  361.500000  0.009450  0.001910  22.107569         NaN   \n",
       "\n",
       "            price_change  \n",
       "Date                      \n",
       "2020-10-16      0.040917  \n",
       "2020-10-19           NaN  \n",
       "2020-10-20           NaN  \n",
       "2020-10-21           NaN  \n",
       "2020-10-22           NaN  \n",
       "2020-10-23           NaN  \n",
       "2020-10-26           NaN  \n",
       "2020-10-27           NaN  \n",
       "2020-10-28           NaN  \n",
       "2020-10-29           NaN  \n",
       "2020-10-30           NaN  \n",
       "2020-11-02           NaN  \n",
       "2020-11-03           NaN  \n",
       "2020-11-04           NaN  \n",
       "2020-11-05           NaN  \n",
       "2020-11-06           NaN  \n",
       "2020-11-09           NaN  \n",
       "2020-11-10           NaN  \n",
       "2020-11-11           NaN  \n",
       "2020-11-12           NaN  \n",
       "2020-11-13           NaN  \n",
       "2020-11-16           NaN  "
      ]
     },
     "execution_count": 10,
     "metadata": {},
     "output_type": "execute_result"
    }
   ],
   "source": [
    "df.iloc[-22:]"
   ]
  },
  {
   "cell_type": "code",
   "execution_count": 11,
   "metadata": {},
   "outputs": [
    {
     "data": {
      "text/plain": [
       "Text(0, 0.5, '21-day volatility prct change')"
      ]
     },
     "execution_count": 11,
     "metadata": {},
     "output_type": "execute_result"
    },
    {
     "data": {
      "image/png": "[encoded data removed]",
      "text/plain": [
       "<Figure size 720x720 with 2 Axes>"
      ]
     },
     "metadata": {
      "needs_background": "light"
     },
     "output_type": "display_data"
    }
   ],
   "source": [
    "df = df.dropna()\n",
    "# https://stackoverflow.com/questions/2369492/generate-a-heatmap-in-matplotlib-using-a-scatter-data-set\n",
    "from matplotlib.colors import LogNorm\n",
    "heatmap, xedges, yedges = np.histogram2d(df.price_change,df.vol_change, bins=100)\n",
    "extent = [xedges[0], xedges[-1], yedges[0], yedges[-1]]\n",
    "aspect = (xedges[-1]-xedges[0])/(yedges[-1]-yedges[0])\n",
    "plt.figure(figsize=(10,10))\n",
    "cmap = 'viridis' #viridis hot\n",
    "plt.imshow(heatmap.T, extent=extent, origin='lower', aspect=aspect,norm=LogNorm(),cmap=cmap)\n",
    "plt.grid(True)\n",
    "plt.colorbar()\n",
    "plt.xlabel('21-day price prct change')\n",
    "plt.ylabel('21-day volatility prct change')"
   ]
  },
  {
   "cell_type": "code",
   "execution_count": 12,
   "metadata": {},
   "outputs": [],
   "source": [
    "# since both signals are likely mean reverting\n",
    "# and assuming realized volatility tracks implied volatilityvol_change\n",
    "# \n",
    "# by sectioning the 2 changes to zones, we can accordingly decide what strategy to deploy\n",
    "\n",
    "# if vol increase, price increase - diagonal - short front month call, long back month call\n",
    "# if vol increase, price no-change - diagonal - short call strangle, long back month?\n",
    "# if vol increase, price decrease - diagonal - short front month put, long back month put\n",
    "\n",
    "# if vol decrease, price increase - short put\n",
    "# if vol decrease, price no-change - iron condor\n",
    "# if vol decrease, price decrease - short call\n",
    "\n",
    "# https://www.youtube.com/watch?v=T6uA_XHunRc, ratios spreads or broken wing butter fly\n",
    "# if vol no-change, price increase - short put ratio spread\n",
    "# if vol no-change, price no-change - iron condor ratio spreads?\n",
    "# if vol no-change, price decrease - short call ratio spread"
   ]
  },
  {
   "cell_type": "code",
   "execution_count": 24,
   "metadata": {},
   "outputs": [
    {
     "data": {
      "text/plain": [
       "<matplotlib.collections.PathCollection at 0x7f75f9fbd208>"
      ]
     },
     "execution_count": 24,
     "metadata": {},
     "output_type": "execute_result"
    },
    {
     "data": {
      "image/png": "[encoded data removed]",
      "text/plain": [
       "<Figure size 432x288 with 1 Axes>"
      ]
     },
     "metadata": {
      "needs_background": "light"
     },
     "output_type": "display_data"
    }
   ],
   "source": [
    "plt.scatter(df.z_ret,df.z_vol)"
   ]
  }
 ],
 "metadata": {
  "kernelspec": {
   "display_name": "Python 3",
   "language": "python",
   "name": "python3"
  },
  "language_info": {
   "codemirror_mode": {
    "name": "ipython",
    "version": 3
   },
   "file_extension": ".py",
   "mimetype": "text/x-python",
   "name": "python",
   "nbconvert_exporter": "python",
   "pygments_lexer": "ipython3",
   "version": "3.6.9"
  }
 },
 "nbformat": 4,
 "nbformat_minor": 2
}
