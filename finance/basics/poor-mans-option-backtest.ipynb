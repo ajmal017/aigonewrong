{
 "cells": [
  {
   "cell_type": "code",
   "execution_count": 13,
   "metadata": {},
   "outputs": [],
   "source": [
    "import numpy as np\n",
    "import pandas as pd\n",
    "import yfinance as yf\n",
    "\n",
    "import matplotlib.pyplot as plt\n",
    "import seaborn as sns\n",
    "%matplotlib inline"
   ]
  },
  {
   "cell_type": "code",
   "execution_count": 14,
   "metadata": {},
   "outputs": [],
   "source": [
    "# compute mean."
   ]
  },
  {
   "cell_type": "code",
   "execution_count": 15,
   "metadata": {},
   "outputs": [],
   "source": [
    "# get historical daily price for SPY\n",
    "symbol = 'SPY'\n",
    "\n",
    "tick = yf.Ticker(symbol)\n",
    "history = tick.history(period=\"max\")\n",
    "assert(symbol =='SPY')\n",
    "vixh=yf.Ticker('^VIX').history(period=\"max\")\n",
    "df = pd.DataFrame()\n",
    "df['close'] = history.Close\n",
    "df['ret']= np.log(df.close).diff()\n",
    "df['ret_mean'] = df.ret.rolling(21).mean()\n",
    "df['realized_vol'] = df.ret.rolling(21).std()*np.sqrt(252)*100\n",
    "df['implied_vol'] = vixh.Close\n",
    "\n",
    "# compute some more params\n",
    "# z = (x – μ) / σ\n",
    "\n",
    "df['z_ret'] = (df.ret_mean-df.ret_mean.mean())/df.ret_mean.std()\n",
    "df['z_vol'] = (df.realized_vol-df.realized_vol.mean())/df.realized_vol.std()\n",
    "\n",
    "df = df.dropna()\n",
    "\n",
    "\n"
   ]
  },
  {
   "cell_type": "code",
   "execution_count": 16,
   "metadata": {},
   "outputs": [
    {
     "data": {
      "text/html": [
       "<div>\n",
       "<style scoped>\n",
       "    .dataframe tbody tr th:only-of-type {\n",
       "        vertical-align: middle;\n",
       "    }\n",
       "\n",
       "    .dataframe tbody tr th {\n",
       "        vertical-align: top;\n",
       "    }\n",
       "\n",
       "    .dataframe thead th {\n",
       "        text-align: right;\n",
       "    }\n",
       "</style>\n",
       "<table border=\"1\" class=\"dataframe\">\n",
       "  <thead>\n",
       "    <tr style=\"text-align: right;\">\n",
       "      <th></th>\n",
       "      <th>close</th>\n",
       "      <th>ret</th>\n",
       "      <th>ret_mean</th>\n",
       "      <th>realized_vol</th>\n",
       "      <th>implied_vol</th>\n",
       "      <th>z_ret</th>\n",
       "      <th>z_vol</th>\n",
       "    </tr>\n",
       "    <tr>\n",
       "      <th>Date</th>\n",
       "      <th></th>\n",
       "      <th></th>\n",
       "      <th></th>\n",
       "      <th></th>\n",
       "      <th></th>\n",
       "      <th></th>\n",
       "      <th></th>\n",
       "    </tr>\n",
       "  </thead>\n",
       "  <tbody>\n",
       "    <tr>\n",
       "      <th>1993-03-02</th>\n",
       "      <td>26.673210</td>\n",
       "      <td>0.014711</td>\n",
       "      <td>0.001072</td>\n",
       "      <td>13.124627</td>\n",
       "      <td>12.490000</td>\n",
       "      <td>0.314967</td>\n",
       "      <td>-0.274428</td>\n",
       "    </tr>\n",
       "    <tr>\n",
       "      <th>1993-03-03</th>\n",
       "      <td>26.784517</td>\n",
       "      <td>0.004164</td>\n",
       "      <td>0.000932</td>\n",
       "      <td>12.994241</td>\n",
       "      <td>13.130000</td>\n",
       "      <td>0.252558</td>\n",
       "      <td>-0.286962</td>\n",
       "    </tr>\n",
       "    <tr>\n",
       "      <th>1993-03-04</th>\n",
       "      <td>26.636116</td>\n",
       "      <td>-0.005556</td>\n",
       "      <td>0.000567</td>\n",
       "      <td>13.176690</td>\n",
       "      <td>13.440000</td>\n",
       "      <td>0.088743</td>\n",
       "      <td>-0.269423</td>\n",
       "    </tr>\n",
       "    <tr>\n",
       "      <th>1993-03-05</th>\n",
       "      <td>26.561911</td>\n",
       "      <td>-0.002790</td>\n",
       "      <td>-0.000066</td>\n",
       "      <td>12.708774</td>\n",
       "      <td>14.080000</td>\n",
       "      <td>-0.195352</td>\n",
       "      <td>-0.314403</td>\n",
       "    </tr>\n",
       "    <tr>\n",
       "      <th>1993-03-08</th>\n",
       "      <td>27.155470</td>\n",
       "      <td>0.022100</td>\n",
       "      <td>0.000787</td>\n",
       "      <td>14.806403</td>\n",
       "      <td>16.219999</td>\n",
       "      <td>0.187381</td>\n",
       "      <td>-0.112761</td>\n",
       "    </tr>\n",
       "    <tr>\n",
       "      <th>...</th>\n",
       "      <td>...</td>\n",
       "      <td>...</td>\n",
       "      <td>...</td>\n",
       "      <td>...</td>\n",
       "      <td>...</td>\n",
       "      <td>...</td>\n",
       "      <td>...</td>\n",
       "    </tr>\n",
       "    <tr>\n",
       "      <th>2020-11-13</th>\n",
       "      <td>358.100006</td>\n",
       "      <td>0.013750</td>\n",
       "      <td>0.001431</td>\n",
       "      <td>21.949281</td>\n",
       "      <td>23.100000</td>\n",
       "      <td>0.476039</td>\n",
       "      <td>0.573877</td>\n",
       "    </tr>\n",
       "    <tr>\n",
       "      <th>2020-11-16</th>\n",
       "      <td>362.570007</td>\n",
       "      <td>0.012405</td>\n",
       "      <td>0.002050</td>\n",
       "      <td>22.257778</td>\n",
       "      <td>22.450001</td>\n",
       "      <td>0.753827</td>\n",
       "      <td>0.603533</td>\n",
       "    </tr>\n",
       "    <tr>\n",
       "      <th>2020-11-17</th>\n",
       "      <td>360.619995</td>\n",
       "      <td>-0.005393</td>\n",
       "      <td>0.002523</td>\n",
       "      <td>21.535533</td>\n",
       "      <td>22.709999</td>\n",
       "      <td>0.965799</td>\n",
       "      <td>0.534104</td>\n",
       "    </tr>\n",
       "    <tr>\n",
       "      <th>2020-11-18</th>\n",
       "      <td>356.279999</td>\n",
       "      <td>-0.012108</td>\n",
       "      <td>0.001756</td>\n",
       "      <td>22.111555</td>\n",
       "      <td>23.840000</td>\n",
       "      <td>0.621909</td>\n",
       "      <td>0.589476</td>\n",
       "    </tr>\n",
       "    <tr>\n",
       "      <th>2020-11-19</th>\n",
       "      <td>357.779999</td>\n",
       "      <td>0.004201</td>\n",
       "      <td>0.002046</td>\n",
       "      <td>22.085556</td>\n",
       "      <td>23.110001</td>\n",
       "      <td>0.752074</td>\n",
       "      <td>0.586977</td>\n",
       "    </tr>\n",
       "  </tbody>\n",
       "</table>\n",
       "<p>6984 rows × 7 columns</p>\n",
       "</div>"
      ],
      "text/plain": [
       "                 close       ret  ret_mean  realized_vol  implied_vol  \\\n",
       "Date                                                                    \n",
       "1993-03-02   26.673210  0.014711  0.001072     13.124627    12.490000   \n",
       "1993-03-03   26.784517  0.004164  0.000932     12.994241    13.130000   \n",
       "1993-03-04   26.636116 -0.005556  0.000567     13.176690    13.440000   \n",
       "1993-03-05   26.561911 -0.002790 -0.000066     12.708774    14.080000   \n",
       "1993-03-08   27.155470  0.022100  0.000787     14.806403    16.219999   \n",
       "...                ...       ...       ...           ...          ...   \n",
       "2020-11-13  358.100006  0.013750  0.001431     21.949281    23.100000   \n",
       "2020-11-16  362.570007  0.012405  0.002050     22.257778    22.450001   \n",
       "2020-11-17  360.619995 -0.005393  0.002523     21.535533    22.709999   \n",
       "2020-11-18  356.279999 -0.012108  0.001756     22.111555    23.840000   \n",
       "2020-11-19  357.779999  0.004201  0.002046     22.085556    23.110001   \n",
       "\n",
       "               z_ret     z_vol  \n",
       "Date                            \n",
       "1993-03-02  0.314967 -0.274428  \n",
       "1993-03-03  0.252558 -0.286962  \n",
       "1993-03-04  0.088743 -0.269423  \n",
       "1993-03-05 -0.195352 -0.314403  \n",
       "1993-03-08  0.187381 -0.112761  \n",
       "...              ...       ...  \n",
       "2020-11-13  0.476039  0.573877  \n",
       "2020-11-16  0.753827  0.603533  \n",
       "2020-11-17  0.965799  0.534104  \n",
       "2020-11-18  0.621909  0.589476  \n",
       "2020-11-19  0.752074  0.586977  \n",
       "\n",
       "[6984 rows x 7 columns]"
      ]
     },
     "execution_count": 16,
     "metadata": {},
     "output_type": "execute_result"
    }
   ],
   "source": [
    "df"
   ]
  },
  {
   "cell_type": "code",
   "execution_count": 17,
   "metadata": {},
   "outputs": [
    {
     "data": {
      "text/plain": [
       "<matplotlib.legend.Legend at 0x7fb00e1cd550>"
      ]
     },
     "execution_count": 17,
     "metadata": {},
     "output_type": "execute_result"
    },
    {
     "data": {
      "image/png": "[encoded data removed]",
      "text/plain": [
       "<Figure size 432x288 with 1 Axes>"
      ]
     },
     "metadata": {
      "needs_background": "light"
     },
     "output_type": "display_data"
    }
   ],
   "source": [
    "#\n",
    "# refresher on log returns vs actual returns\n",
    "#\n",
    "# https://www.portfolioprobe.com/2010/10/04/a-tale-of-two-returns/\n",
    "# https://quant.stackexchange.com/questions/21092/calculating-log-returns-across-multiple-securities-and-time\n",
    "norm_price_from_log_ret = np.expand_dims(np.cumprod(df.ret+1),axis=1)\n",
    "norm_price_from_price = np.expand_dims(df.close.values/df.close.values[0],axis=1)\n",
    "plt.plot(norm_price_from_price,label='from price')\n",
    "plt.plot(norm_price_from_log_ret,label='from log ret')\n",
    "plt.grid(True)\n",
    "plt.legend()"
   ]
  },
  {
   "cell_type": "code",
   "execution_count": 18,
   "metadata": {},
   "outputs": [
    {
     "name": "stdout",
     "output_type": "stream",
     "text": [
      "2.142857142857143\n"
     ]
    }
   ],
   "source": [
    "# 45 days DTE - equates to 45/21 = 2.1 weeks, which is 10 business days\n",
    "print(45/21)"
   ]
  },
  {
   "cell_type": "code",
   "execution_count": 19,
   "metadata": {},
   "outputs": [],
   "source": [
    "# https://medium.com/magnimetrics/black-scholes-model-first-steps-bdcbe1691da7"
   ]
  },
  {
   "cell_type": "code",
   "execution_count": 26,
   "metadata": {},
   "outputs": [
    {
     "data": {
      "text/plain": [
       "Date\n",
       "1993-03-02    NaN\n",
       "1993-03-03    0.0\n",
       "1993-03-04    0.0\n",
       "1993-03-05    0.0\n",
       "1993-03-08    0.0\n",
       "             ... \n",
       "2020-11-13    0.0\n",
       "2020-11-16    0.0\n",
       "2020-11-17    0.0\n",
       "2020-11-18    0.0\n",
       "2020-11-19    0.0\n",
       "Name: close, Length: 6984, dtype: float64"
      ]
     },
     "execution_count": 26,
     "metadata": {},
     "output_type": "execute_result"
    }
   ],
   "source": [
    "class Portfolio:\n",
    "    def __init__(self):\n",
    "        pass\n",
    "    def get_positions()\n",
    "        pass\n",
    "    def manage_positions()\n",
    "        delete = [] \n",
    "        for k,v in self.positions.items():\n",
    "            if v.manage_position():\n",
    "                delete.append(v)\n",
    "        for k in delete:\n",
    "            self.positions.pop(k)\n",
    "        \n",
    "class Strategy:\n",
    "    def __init__(self):\n",
    "        pass\n",
    "    def open_position(self)\n",
    "        pass\n",
    "    def close_position(self)\n",
    "        pass\n",
    "    def manage_position(self):\n",
    "        pass\n",
    "        '''\n",
    "        if dte\n",
    "            return close()\n",
    "        if profit > th\n",
    "        '''\n",
    "class ShortStraddle(Strategy)\n",
    "    def __init__(self):\n",
    "        pass\n",
    "    \n",
    "# # ok to \n",
    "    \n",
    "def fun(ser):\n",
    "    #print(df.loc[ser.index])\n",
    "    return 0\n",
    "rol = df.close.rolling(window=2)\n",
    "rol.apply(fun, raw=False)"
   ]
  },
  {
   "cell_type": "code",
   "execution_count": 9,
   "metadata": {},
   "outputs": [],
   "source": [
    "# thus we first determine the Ys which we want to predict\n",
    "# X will be a vector of historical data, and Y will be the future 10day price change and volatility change."
   ]
  },
  {
   "cell_type": "code",
   "execution_count": 10,
   "metadata": {},
   "outputs": [],
   "source": [
    "# dont want to write another black schole function.\n",
    "# using existing ones based on github project star count\n",
    "# https://github.com/search?l=Python&o=desc&q=black+schole&s=stars&type=Repositories\n",
    "# \n",
    "# lets be rational - https://jaeckel.000webhostapp.com/LetsBeRational.pdf\n",
    "# https://github.com/vollib/py_vollib\n",
    "# https://github.com/boyac/pyOptionPricing\n"
   ]
  },
  {
   "cell_type": "code",
   "execution_count": 12,
   "metadata": {},
   "outputs": [],
   "source": [
    "# since both signals are likely mean reverting\n",
    "# and assuming realized volatility tracks implied volatilityvol_change\n",
    "# \n",
    "# by sectioning the 2 changes to zones, we can accordingly decide what strategy to deploy\n",
    "\n",
    "# if vol increase, price increase - diagonal - short front month call, long back month call\n",
    "# if vol increase, price no-change - diagonal - short call strangle, long back month?\n",
    "# if vol increase, price decrease - diagonal - short front month put, long back month put\n",
    "\n",
    "# if vol decrease, price increase - short put\n",
    "# if vol decrease, price no-change - iron condor\n",
    "# if vol decrease, price decrease - short call\n",
    "\n",
    "# https://www.youtube.com/watch?v=T6uA_XHunRc, ratios spreads or broken wing butter fly\n",
    "# if vol no-change, price increase - short put ratio spread\n",
    "# if vol no-change, price no-change - iron condor ratio spreads?\n",
    "# if vol no-change, price decrease - short call ratio spread"
   ]
  }
 ],
 "metadata": {
  "kernelspec": {
   "display_name": "Python 3",
   "language": "python",
   "name": "python3"
  },
  "language_info": {
   "codemirror_mode": {
    "name": "ipython",
    "version": 3
   },
   "file_extension": ".py",
   "mimetype": "text/x-python",
   "name": "python",
   "nbconvert_exporter": "python",
   "pygments_lexer": "ipython3",
   "version": "3.6.9"
  }
 },
 "nbformat": 4,
 "nbformat_minor": 2
}
