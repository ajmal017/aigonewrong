{
 "cells": [
  {
   "cell_type": "markdown",
   "metadata": {},
   "source": [
    "## compute price return using SPY\n",
    "\n",
    "### + verify daily percent return mean is 0\n",
    "\n",
    "### + check how mean return varies as period is increased from day 1 to 120.\n",
    "\n",
    "### + verify log return matches well with percent return\n"
   ]
  },
  {
   "cell_type": "code",
   "execution_count": 1,
   "metadata": {},
   "outputs": [],
   "source": [
    "import numpy as np\n",
    "import pandas as pd\n",
    "import yfinance as yf\n",
    "\n",
    "import matplotlib.pyplot as plt\n",
    "import seaborn as sns\n",
    "%matplotlib inline"
   ]
  },
  {
   "cell_type": "code",
   "execution_count": 2,
   "metadata": {},
   "outputs": [],
   "source": [
    "# get historical daily price for SPY\n",
    "symbol = 'SPY'\n",
    "tick = yf.Ticker(symbol)\n",
    "history = tick.history(period=\"max\")"
   ]
  },
  {
   "cell_type": "markdown",
   "metadata": {},
   "source": [
    "### + verify daily percent return mean is 0"
   ]
  },
  {
   "cell_type": "code",
   "execution_count": 3,
   "metadata": {},
   "outputs": [
    {
     "name": "stdout",
     "output_type": "stream",
     "text": [
      "0.00044109449579917293\n"
     ]
    }
   ],
   "source": [
    "changes = history.Close.pct_change(1).dropna().values\n",
    "print(np.mean(changes))"
   ]
  },
  {
   "cell_type": "markdown",
   "metadata": {},
   "source": [
    "### + check how mean return varies as period is increased from day 1 to 120."
   ]
  },
  {
   "cell_type": "code",
   "execution_count": 4,
   "metadata": {},
   "outputs": [
    {
     "data": {
      "text/html": [
       "<div>\n",
       "<style scoped>\n",
       "    .dataframe tbody tr th:only-of-type {\n",
       "        vertical-align: middle;\n",
       "    }\n",
       "\n",
       "    .dataframe tbody tr th {\n",
       "        vertical-align: top;\n",
       "    }\n",
       "\n",
       "    .dataframe thead th {\n",
       "        text-align: right;\n",
       "    }\n",
       "</style>\n",
       "<table border=\"1\" class=\"dataframe\">\n",
       "  <thead>\n",
       "    <tr style=\"text-align: right;\">\n",
       "      <th></th>\n",
       "      <th>period</th>\n",
       "      <th>mymean</th>\n",
       "      <th>mystd</th>\n",
       "    </tr>\n",
       "  </thead>\n",
       "  <tbody>\n",
       "    <tr>\n",
       "      <th>0</th>\n",
       "      <td>1</td>\n",
       "      <td>0.000441</td>\n",
       "      <td>0.011911</td>\n",
       "    </tr>\n",
       "    <tr>\n",
       "      <th>1</th>\n",
       "      <td>10</td>\n",
       "      <td>0.004220</td>\n",
       "      <td>0.032208</td>\n",
       "    </tr>\n",
       "    <tr>\n",
       "      <th>2</th>\n",
       "      <td>20</td>\n",
       "      <td>0.008431</td>\n",
       "      <td>0.044869</td>\n",
       "    </tr>\n",
       "    <tr>\n",
       "      <th>3</th>\n",
       "      <td>30</td>\n",
       "      <td>0.012548</td>\n",
       "      <td>0.053841</td>\n",
       "    </tr>\n",
       "    <tr>\n",
       "      <th>4</th>\n",
       "      <td>40</td>\n",
       "      <td>0.016730</td>\n",
       "      <td>0.061383</td>\n",
       "    </tr>\n",
       "    <tr>\n",
       "      <th>5</th>\n",
       "      <td>50</td>\n",
       "      <td>0.020934</td>\n",
       "      <td>0.068259</td>\n",
       "    </tr>\n",
       "    <tr>\n",
       "      <th>6</th>\n",
       "      <td>60</td>\n",
       "      <td>0.025113</td>\n",
       "      <td>0.074266</td>\n",
       "    </tr>\n",
       "    <tr>\n",
       "      <th>7</th>\n",
       "      <td>70</td>\n",
       "      <td>0.029291</td>\n",
       "      <td>0.079890</td>\n",
       "    </tr>\n",
       "    <tr>\n",
       "      <th>8</th>\n",
       "      <td>80</td>\n",
       "      <td>0.033502</td>\n",
       "      <td>0.085597</td>\n",
       "    </tr>\n",
       "    <tr>\n",
       "      <th>9</th>\n",
       "      <td>90</td>\n",
       "      <td>0.037679</td>\n",
       "      <td>0.091094</td>\n",
       "    </tr>\n",
       "    <tr>\n",
       "      <th>10</th>\n",
       "      <td>100</td>\n",
       "      <td>0.041924</td>\n",
       "      <td>0.096428</td>\n",
       "    </tr>\n",
       "    <tr>\n",
       "      <th>11</th>\n",
       "      <td>110</td>\n",
       "      <td>0.046189</td>\n",
       "      <td>0.101860</td>\n",
       "    </tr>\n",
       "  </tbody>\n",
       "</table>\n",
       "</div>"
      ],
      "text/plain": [
       "    period    mymean     mystd\n",
       "0        1  0.000441  0.011911\n",
       "1       10  0.004220  0.032208\n",
       "2       20  0.008431  0.044869\n",
       "3       30  0.012548  0.053841\n",
       "4       40  0.016730  0.061383\n",
       "5       50  0.020934  0.068259\n",
       "6       60  0.025113  0.074266\n",
       "7       70  0.029291  0.079890\n",
       "8       80  0.033502  0.085597\n",
       "9       90  0.037679  0.091094\n",
       "10     100  0.041924  0.096428\n",
       "11     110  0.046189  0.101860"
      ]
     },
     "execution_count": 4,
     "metadata": {},
     "output_type": "execute_result"
    },
    {
     "data": {
      "image/png": "[encoded data removed]",
      "text/plain": [
       "<Figure size 432x288 with 1 Axes>"
      ]
     },
     "metadata": {
      "needs_background": "light"
     },
     "output_type": "display_data"
    }
   ],
   "source": [
    "mylist = []\n",
    "for period in np.arange(0,120,10):\n",
    "    period = 1 if period == 0 else period\n",
    "    changes = history.Close.pct_change(period).dropna().values\n",
    "    item=dict(period=period,mymean=np.mean(changes),mystd=np.std(changes))\n",
    "    mylist.append(item)\n",
    "df = pd.DataFrame(mylist)\n",
    "\n",
    "plt.plot(df.period,df.mymean)\n",
    "plt.scatter(df.period,df.mymean)\n",
    "plt.grid(True)\n",
    "plt.xlabel('period')\n",
    "plt.ylabel('percent change')\n",
    "\n",
    "df"
   ]
  },
  {
   "cell_type": "markdown",
   "metadata": {},
   "source": [
    "#### When selling puts & calls 45 DTE, historically, better to be a bit far out on the call side given SPY mean change over 30 to 50 days range from 1 to 2%"
   ]
  },
  {
   "cell_type": "markdown",
   "metadata": {},
   "source": [
    "### + verify log return matches well with percent return"
   ]
  },
  {
   "cell_type": "code",
   "execution_count": 5,
   "metadata": {},
   "outputs": [],
   "source": [
    "# log return computation\n",
    "changes = history.Close.pct_change(1).dropna().values\n",
    "df=pd.DataFrame()\n",
    "df['price'] = history.Close\n",
    "df['pct_chg'] = df.price.pct_change()\n",
    "df['log_ret'] = np.log(df.price) - np.log(df.price.shift(1))"
   ]
  },
  {
   "cell_type": "code",
   "execution_count": 6,
   "metadata": {},
   "outputs": [
    {
     "data": {
      "image/png": "[encoded data removed]",
      "text/plain": [
       "<Figure size 432x288 with 1 Axes>"
      ]
     },
     "metadata": {
      "needs_background": "light"
     },
     "output_type": "display_data"
    }
   ],
   "source": [
    "# percent change, veresus log return\n",
    "plt.scatter(df.iloc[1:].pct_chg,df.iloc[1:].log_ret)\n",
    "plt.xlabel('percent change')\n",
    "plt.xlabel('log return')\n",
    "plt.grid(True)"
   ]
  },
  {
   "cell_type": "markdown",
   "metadata": {},
   "source": [
    "### + check distribution of 30-day percent change "
   ]
  },
  {
   "cell_type": "code",
   "execution_count": 7,
   "metadata": {},
   "outputs": [
    {
     "name": "stdout",
     "output_type": "stream",
     "text": [
      "mean 0.012548187620858815\n",
      "1993-01-29 00:00:00 2020-10-23 00:00:00\n"
     ]
    },
    {
     "data": {
      "image/png": "[encoded data removed]",
      "text/plain": [
       "<Figure size 432x288 with 1 Axes>"
      ]
     },
     "metadata": {
      "needs_background": "light"
     },
     "output_type": "display_data"
    }
   ],
   "source": [
    "subhistory = history.copy()\n",
    "changes = subhistory.Close.pct_change(30).dropna().values\n",
    "print('mean',np.mean(changes))\n",
    "_=plt.hist(changes,bins=100,histtype='step',linewidth=2)\n",
    "plt.xlabel('daily percent change')\n",
    "plt.ylabel('count')\n",
    "plt.title(f'''distribution of daily percent change in SPY\\n \\\n",
    "    from {np.min(subhistory.index).strftime(\"%Y-%m\")} to {np.max(subhistory.index).strftime(\"%Y-%m\")}'''\n",
    " )\n",
    "plt.grid(True)\n",
    "print(np.min(subhistory.index),np.max(subhistory.index))"
   ]
  },
  {
   "cell_type": "code",
   "execution_count": 8,
   "metadata": {},
   "outputs": [
    {
     "name": "stdout",
     "output_type": "stream",
     "text": [
      "mean 0.059711222089598025 sd 0.04669181585367756\n",
      "2020-03-24 00:00:00 2020-10-23 00:00:00\n"
     ]
    },
    {
     "data": {
      "image/png": "[encoded data removed]",
      "text/plain": [
       "<Figure size 432x288 with 1 Axes>"
      ]
     },
     "metadata": {
      "needs_background": "light"
     },
     "output_type": "display_data"
    }
   ],
   "source": [
    "subhistory = history.copy().iloc[-150:]\n",
    "changes = subhistory.Close.pct_change(30).dropna().values\n",
    "print('mean',np.mean(changes),'sd',np.std(changes))\n",
    "_=plt.hist(changes,bins=25,histtype='step',linewidth=2)\n",
    "plt.xlabel('daily percent change')\n",
    "plt.ylabel('count')\n",
    "plt.title(f'''distribution of 30-day percent change in SPY\\n \\\n",
    "    from {np.min(subhistory.index).strftime(\"%Y-%m\")} to {np.max(subhistory.index).strftime(\"%Y-%m\")}'''\n",
    " )\n",
    "plt.grid(True)\n",
    "print(np.min(subhistory.index),np.max(subhistory.index))"
   ]
  },
  {
   "cell_type": "markdown",
   "metadata": {},
   "source": [
    "### ^^^  the positive skew from Mar to Oct 2020 is why you are loosing money if you are sticking to a delta neutral portfolio"
   ]
  },
  {
   "cell_type": "code",
   "execution_count": null,
   "metadata": {},
   "outputs": [],
   "source": []
  },
  {
   "cell_type": "code",
   "execution_count": null,
   "metadata": {},
   "outputs": [],
   "source": []
  }
 ],
 "metadata": {
  "kernelspec": {
   "display_name": "Python 3",
   "language": "python",
   "name": "python3"
  },
  "language_info": {
   "codemirror_mode": {
    "name": "ipython",
    "version": 3
   },
   "file_extension": ".py",
   "mimetype": "text/x-python",
   "name": "python",
   "nbconvert_exporter": "python",
   "pygments_lexer": "ipython3",
   "version": "3.6.9"
  }
 },
 "nbformat": 4,
 "nbformat_minor": 2
}
